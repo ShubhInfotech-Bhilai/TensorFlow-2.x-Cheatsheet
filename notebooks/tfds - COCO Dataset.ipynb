{
 "cells": [
  {
   "cell_type": "code",
   "execution_count": 1,
   "metadata": {},
   "outputs": [
    {
     "name": "stdout",
     "output_type": "stream",
     "text": [
      "2.1.0\n"
     ]
    }
   ],
   "source": [
    "import tensorflow as tf\n",
    "print(tf.__version__)"
   ]
  },
  {
   "cell_type": "code",
   "execution_count": 2,
   "metadata": {},
   "outputs": [
    {
     "name": "stdout",
     "output_type": "stream",
     "text": [
      "1.3.2\n"
     ]
    }
   ],
   "source": [
    "import tensorflow_datasets as tfds\n",
    "print(tfds.__version__)\n",
    "\n",
    "import pathlib"
   ]
  },
  {
   "cell_type": "code",
   "execution_count": 3,
   "metadata": {},
   "outputs": [],
   "source": [
    "data_dir = \"D:\\\\Data\\\\coco\\\\2017\"\n",
    "pathlib.Path(data_dir).mkdir(parents=True, exist_ok=True)"
   ]
  },
  {
   "cell_type": "code",
   "execution_count": 5,
   "metadata": {},
   "outputs": [],
   "source": [
    "tfds.disable_progress_bar()"
   ]
  },
  {
   "cell_type": "code",
   "execution_count": 6,
   "metadata": {},
   "outputs": [
    {
     "name": "stdout",
     "output_type": "stream",
     "text": [
      "\u001b[1mDownloading and preparing dataset coco (25.20 GiB) to D:\\Data\\coco\\2017\\coco\\2017\\1.1.0...\u001b[0m\n",
      "Shuffling and writing examples to D:\\Data\\coco\\2017\\coco\\2017\\1.1.0.incompleteIO0GQB\\coco-train.tfrecord\n",
      "Shuffling and writing examples to D:\\Data\\coco\\2017\\coco\\2017\\1.1.0.incompleteIO0GQB\\coco-validation.tfrecord\n",
      "Shuffling and writing examples to D:\\Data\\coco\\2017\\coco\\2017\\1.1.0.incompleteIO0GQB\\coco-test.tfrecord\n"
     ]
    },
    {
     "name": "stderr",
     "output_type": "stream",
     "text": [
      "ERROR:absl:Statistics generation doesn't work for nested structures yet\n",
      "ERROR:absl:Statistics generation doesn't work for nested structures yet\n",
      "ERROR:absl:Statistics generation doesn't work for nested structures yet\n"
     ]
    },
    {
     "name": "stdout",
     "output_type": "stream",
     "text": [
      "\u001b[1mDataset coco downloaded and prepared to D:\\Data\\coco\\2017\\coco\\2017\\1.1.0. Subsequent calls will reuse this data.\u001b[0m\n"
     ]
    }
   ],
   "source": [
    "datasets, info = tfds.load(\"coco/2017\", data_dir=data_dir, with_info=True)"
   ]
  },
  {
   "cell_type": "code",
   "execution_count": 7,
   "metadata": {},
   "outputs": [
    {
     "data": {
      "text/plain": [
       "tfds.core.DatasetInfo(\n",
       "    name='coco',\n",
       "    version=1.1.0,\n",
       "    description='COCO is a large-scale object detection, segmentation, and\n",
       "captioning dataset. This version contains images, bounding boxes \"\n",
       "and labels for the 2017 version.\n",
       "Note:\n",
       " * Some images from the train and validation sets don't have annotations.\n",
       " * Coco 2014 and 2017 uses the same images, but different train/val/test splits\n",
       " * The test split don't have any annotations (only images).\n",
       " * Coco defines 91 classes but the data only uses 80 classes.\n",
       " * Panotptic annotations defines defines 200 classes but only uses 133.\n",
       "',\n",
       "    homepage='http://cocodataset.org/#home',\n",
       "    features=FeaturesDict({\n",
       "        'image': Image(shape=(None, None, 3), dtype=tf.uint8),\n",
       "        'image/filename': Text(shape=(), dtype=tf.string),\n",
       "        'image/id': Tensor(shape=(), dtype=tf.int64),\n",
       "        'objects': Sequence({\n",
       "            'area': Tensor(shape=(), dtype=tf.int64),\n",
       "            'bbox': BBoxFeature(shape=(4,), dtype=tf.float32),\n",
       "            'id': Tensor(shape=(), dtype=tf.int64),\n",
       "            'is_crowd': Tensor(shape=(), dtype=tf.bool),\n",
       "            'label': ClassLabel(shape=(), dtype=tf.int64, num_classes=80),\n",
       "        }),\n",
       "    }),\n",
       "    total_num_examples=163957,\n",
       "    splits={\n",
       "        'test': 40670,\n",
       "        'train': 118287,\n",
       "        'validation': 5000,\n",
       "    },\n",
       "    supervised_keys=None,\n",
       "    citation=\"\"\"@article{DBLP:journals/corr/LinMBHPRDZ14,\n",
       "      author    = {Tsung{-}Yi Lin and\n",
       "                   Michael Maire and\n",
       "                   Serge J. Belongie and\n",
       "                   Lubomir D. Bourdev and\n",
       "                   Ross B. Girshick and\n",
       "                   James Hays and\n",
       "                   Pietro Perona and\n",
       "                   Deva Ramanan and\n",
       "                   Piotr Doll{'{a}}r and\n",
       "                   C. Lawrence Zitnick},\n",
       "      title     = {Microsoft {COCO:} Common Objects in Context},\n",
       "      journal   = {CoRR},\n",
       "      volume    = {abs/1405.0312},\n",
       "      year      = {2014},\n",
       "      url       = {http://arxiv.org/abs/1405.0312},\n",
       "      archivePrefix = {arXiv},\n",
       "      eprint    = {1405.0312},\n",
       "      timestamp = {Mon, 13 Aug 2018 16:48:13 +0200},\n",
       "      biburl    = {https://dblp.org/rec/bib/journals/corr/LinMBHPRDZ14},\n",
       "      bibsource = {dblp computer science bibliography, https://dblp.org}\n",
       "    }\"\"\",\n",
       "    redistribution_info=,\n",
       ")"
      ]
     },
     "execution_count": 7,
     "metadata": {},
     "output_type": "execute_result"
    }
   ],
   "source": [
    "info"
   ]
  },
  {
   "cell_type": "code",
   "execution_count": null,
   "metadata": {},
   "outputs": [],
   "source": []
  }
 ],
 "metadata": {
  "kernelspec": {
   "display_name": "Python 3",
   "language": "python",
   "name": "python3"
  },
  "language_info": {
   "codemirror_mode": {
    "name": "ipython",
    "version": 3
   },
   "file_extension": ".py",
   "mimetype": "text/x-python",
   "name": "python",
   "nbconvert_exporter": "python",
   "pygments_lexer": "ipython3",
   "version": "3.7.6"
  }
 },
 "nbformat": 4,
 "nbformat_minor": 2
}
